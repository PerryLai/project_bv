{
 "cells": [
  {
   "cell_type": "code",
   "execution_count": 41,
   "id": "ebb26ec6-86cf-4ec2-834d-cb20ff53d463",
   "metadata": {},
   "outputs": [],
   "source": [
    "import open3d as o3d\n",
    "\n",
    "mesh1 = o3d.io.read_point_cloud(\"A/1.ply\")\n",
    "mesh2 = o3d.io.read_point_cloud(\"A/2.ply\")\n",
    "mesh3 = o3d.io.read_point_cloud(\"A/3.ply\")\n",
    "mesh4 = o3d.io.read_point_cloud(\"A/4.ply\")"
   ]
  },
  {
   "cell_type": "code",
   "execution_count": 42,
   "id": "b911d7ca-0b08-4af2-85de-62abd58dff00",
   "metadata": {},
   "outputs": [],
   "source": [
    "import numpy as np\n",
    "\n",
    "\n",
    "point1 = np.asarray(mesh1.points)\n",
    "point2 = np.asarray(mesh2.points)\n",
    "point3 = np.asarray(mesh3.points)\n",
    "point4 = np.asarray(mesh4.points)\n",
    "point2[:, 1] = -point2[:, 1]\n",
    "point2[:, 0] = -point2[:, 0]\n",
    "\n",
    "point3[:, [0,1]] = point3[:, [1,0]]\n",
    "point3[:, 1] = -point3[:, 1]\n",
    "\n",
    "point4[:, [0,1]] = point4[:, [1,0]]\n",
    "point4[:, 0] = -point4[:, 0]"
   ]
  },
  {
   "cell_type": "code",
   "execution_count": 43,
   "id": "b678b32d-c0f9-477c-8788-ce6488375f91",
   "metadata": {},
   "outputs": [],
   "source": [
    "points = np.concatenate((point1, point2, point3, point4), axis=0)\n",
    "points = points[np.where(points[:,2] > -2.9)]"
   ]
  },
  {
   "cell_type": "code",
   "execution_count": 44,
   "id": "2c3f176f-98a3-4b19-859f-339f7533cccd",
   "metadata": {},
   "outputs": [
    {
     "data": {
      "text/plain": [
       "True"
      ]
     },
     "execution_count": 44,
     "metadata": {},
     "output_type": "execute_result"
    }
   ],
   "source": [
    "pcd = o3d.geometry.PointCloud()\n",
    "pcd.points = o3d.utility.Vector3dVector(points)\n",
    "o3d.io.write_point_cloud(\"./dataA.ply\", pcd)"
   ]
  },
  {
   "cell_type": "code",
   "execution_count": 4,
   "id": "f06bc0be-f85d-408e-933c-cc131abd1423",
   "metadata": {},
   "outputs": [
    {
     "data": {
      "text/plain": [
       "360.0"
      ]
     },
     "execution_count": 4,
     "metadata": {},
     "output_type": "execute_result"
    }
   ],
   "source": [
    "import math\n",
    "x = 0\n",
    "y = -1\n",
    "(math.atan2( y, x ) + math.pi)*360/(2*math.pi)"
   ]
  },
  {
   "cell_type": "code",
   "execution_count": 24,
   "id": "a3d9f2d9-83a4-489a-b4cc-50a9728b4eab",
   "metadata": {},
   "outputs": [
    {
     "data": {
      "text/plain": [
       "0"
      ]
     },
     "execution_count": 24,
     "metadata": {},
     "output_type": "execute_result"
    }
   ],
   "source": []
  },
  {
   "cell_type": "code",
   "execution_count": null,
   "id": "d38a52bd-4e9f-45d8-9ca5-73fdaa472a1c",
   "metadata": {},
   "outputs": [],
   "source": []
  }
 ],
 "metadata": {
  "kernelspec": {
   "display_name": "Python 3",
   "language": "python",
   "name": "python3"
  },
  "language_info": {
   "codemirror_mode": {
    "name": "ipython",
    "version": 3
   },
   "file_extension": ".py",
   "mimetype": "text/x-python",
   "name": "python",
   "nbconvert_exporter": "python",
   "pygments_lexer": "ipython3",
   "version": "3.6.9"
  }
 },
 "nbformat": 4,
 "nbformat_minor": 5
}
